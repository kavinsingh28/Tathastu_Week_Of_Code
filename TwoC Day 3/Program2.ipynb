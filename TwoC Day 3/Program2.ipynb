{
 "cells": [
  {
   "cell_type": "code",
   "execution_count": 55,
   "metadata": {},
   "outputs": [
    {
     "name": "stdin",
     "output_type": "stream",
     "text": [
      "Enter a string:  abcd\n"
     ]
    },
    {
     "name": "stdout",
     "output_type": "stream",
     "text": [
      "All the permutation of given string is: abcd, abdc, acbd, acdb, adbc, adcb, bacd, badc, bcad, bcda, bdac, bdca, cabd, cadb, cbad, cbda, cdab, cdba, dabc, dacb, dbac, dbca, dcab, dcba\n"
     ]
    }
   ],
   "source": [
    "def permute(List, Str = \"\"):\n",
    "    Set = set(List)\n",
    "    sL= []\n",
    "    if len(Set) == 1:\n",
    "        Str += \"\".join(List)\n",
    "        return [Str]\n",
    "    for x in Set:\n",
    "        List1 = list(List)\n",
    "        S = Str + x \n",
    "        List1.remove(x)\n",
    "        sL.extend(permute(List1, S))\n",
    "    return sL\n",
    "\n",
    "strn = input(\"Enter a string: \")\n",
    "List = permute(list(strn))\n",
    "print(\"All the permutation of given string is: \" + \", \".join(List))"
   ]
  },
  {
   "cell_type": "code",
   "execution_count": null,
   "metadata": {},
   "outputs": [],
   "source": []
  }
 ],
 "metadata": {
  "kernelspec": {
   "display_name": "Python 3",
   "language": "python",
   "name": "python3"
  },
  "language_info": {
   "codemirror_mode": {
    "name": "ipython",
    "version": 3
   },
   "file_extension": ".py",
   "mimetype": "text/x-python",
   "name": "python",
   "nbconvert_exporter": "python",
   "pygments_lexer": "ipython3",
   "version": "3.7.6"
  }
 },
 "nbformat": 4,
 "nbformat_minor": 4
}
