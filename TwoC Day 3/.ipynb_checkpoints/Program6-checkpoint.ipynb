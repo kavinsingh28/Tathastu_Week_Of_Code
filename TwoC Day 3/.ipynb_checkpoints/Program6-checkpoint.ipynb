{
 "cells": [
  {
   "cell_type": "code",
   "execution_count": 1,
   "metadata": {},
   "outputs": [
    {
     "name": "stdin",
     "output_type": "stream",
     "text": [
      "Enter the Total no. of elements 5\n"
     ]
    },
    {
     "name": "stdout",
     "output_type": "stream",
     "text": [
      "Enter the Elements\n"
     ]
    },
    {
     "name": "stdin",
     "output_type": "stream",
     "text": [
      " 1\n",
      " 2\n",
      " 2\n",
      " 5\n",
      " 7\n"
     ]
    },
    {
     "name": "stdout",
     "output_type": "stream",
     "text": [
      "18\n"
     ]
    }
   ],
   "source": [
    "def combs(a):\n",
    "    if len(a) == 0:\n",
    "        return [[]]\n",
    "    cs = []\n",
    "    for c in combs(a[1:]):\n",
    "        cs += [c, c+[a[0]]]\n",
    "    return cs\n",
    "x=int(input(\"Enter the Total no. of elements\"))\n",
    "print(\"Enter the Elements\")\n",
    "l=[]\n",
    "for i in range(x):\n",
    "    n=int(input())\n",
    "    l.append(n)\n",
    "k=(combs(l))\n",
    "k.sort()\n",
    "for i in range(len(k)):\n",
    "    k[i]=sum(k[i])\n",
    "k=set(k)\n",
    "b=min(l)\n",
    "c=1\n",
    "d=0\n",
    "\n",
    "for i in k:\n",
    "    if c in k:\n",
    "        c+=1\n",
    "        continue\n",
    "    else:\n",
    "        d+=1\n",
    "        print(c)\n",
    "        break\n",
    "if d==0:\n",
    "    print(max(k)+1)\n"
   ]
  },
  {
   "cell_type": "code",
   "execution_count": null,
   "metadata": {},
   "outputs": [],
   "source": []
  }
 ],
 "metadata": {
  "kernelspec": {
   "display_name": "Python 3",
   "language": "python",
   "name": "python3"
  },
  "language_info": {
   "codemirror_mode": {
    "name": "ipython",
    "version": 3
   },
   "file_extension": ".py",
   "mimetype": "text/x-python",
   "name": "python",
   "nbconvert_exporter": "python",
   "pygments_lexer": "ipython3",
   "version": "3.7.6"
  }
 },
 "nbformat": 4,
 "nbformat_minor": 4
}
