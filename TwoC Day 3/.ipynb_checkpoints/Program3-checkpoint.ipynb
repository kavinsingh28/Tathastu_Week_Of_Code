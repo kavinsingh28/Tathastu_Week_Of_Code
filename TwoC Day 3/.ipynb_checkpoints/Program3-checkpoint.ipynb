{
 "cells": [
  {
   "cell_type": "code",
   "execution_count": 33,
   "metadata": {},
   "outputs": [
    {
     "name": "stdin",
     "output_type": "stream",
     "text": [
      "Enter the string: abcdabcdabcdabcd\n"
     ]
    },
    {
     "name": "stdout",
     "output_type": "stream",
     "text": [
      "String after removing repetiting characters: abcd\n"
     ]
    }
   ],
   "source": [
    "x=input(\"Enter the string:\")\n",
    "l=[]\n",
    "for i in range(len(x)):\n",
    "    if x[i]==\" \":\n",
    "        pass\n",
    "    elif x.count(x[i])>1:\n",
    "        l.append(x[i])\n",
    "        x=x.replace(x[i],\" \")\n",
    "    else:\n",
    "        l.append(x[i])\n",
    "print(\"String after removing repetiting characters: \",end=\"\")\n",
    "print(\"\".join(l))\n",
    "        \n",
    "        "
   ]
  },
  {
   "cell_type": "code",
   "execution_count": null,
   "metadata": {},
   "outputs": [],
   "source": []
  },
  {
   "cell_type": "code",
   "execution_count": null,
   "metadata": {},
   "outputs": [],
   "source": []
  }
 ],
 "metadata": {
  "kernelspec": {
   "display_name": "Python 3",
   "language": "python",
   "name": "python3"
  },
  "language_info": {
   "codemirror_mode": {
    "name": "ipython",
    "version": 3
   },
   "file_extension": ".py",
   "mimetype": "text/x-python",
   "name": "python",
   "nbconvert_exporter": "python",
   "pygments_lexer": "ipython3",
   "version": "3.7.6"
  }
 },
 "nbformat": 4,
 "nbformat_minor": 4
}
