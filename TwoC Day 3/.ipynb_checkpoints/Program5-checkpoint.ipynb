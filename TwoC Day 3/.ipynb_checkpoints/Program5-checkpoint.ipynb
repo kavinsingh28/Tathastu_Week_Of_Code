{
 "cells": [
  {
   "cell_type": "code",
   "execution_count": 7,
   "metadata": {},
   "outputs": [
    {
     "name": "stdin",
     "output_type": "stream",
     "text": [
      "Enter the total number of elelmts of first list 4\n"
     ]
    },
    {
     "name": "stdout",
     "output_type": "stream",
     "text": [
      "Enter the elements of first list\n"
     ]
    },
    {
     "name": "stdin",
     "output_type": "stream",
     "text": [
      " 1\n",
      " 2\n",
      " 3\n",
      " 4\n",
      "Enter the total number of elelmts of second list 4\n"
     ]
    },
    {
     "name": "stdout",
     "output_type": "stream",
     "text": [
      "Enter the elements of second list\n"
     ]
    },
    {
     "name": "stdin",
     "output_type": "stream",
     "text": [
      " 2\n",
      " 3\n",
      " 4\n",
      " 5\n"
     ]
    },
    {
     "name": "stdout",
     "output_type": "stream",
     "text": [
      "The intersection of list 1 and list 2 is : 2,3,4\n"
     ]
    }
   ],
   "source": [
    "n1=int(input(\"Enter the total number of elelmts of first list\"))\n",
    "print(\"Enter the elements of first list\")\n",
    "A=[]\n",
    "B=[]\n",
    "for i in range(n1):\n",
    "    x=input()\n",
    "    A.append(x)\n",
    "n2=int(input(\"Enter the total number of elelmts of second list\"))\n",
    "print(\"Enter the elements of second list\")\n",
    "for i in range(n2):\n",
    "    y=input()\n",
    "    B.append(y)\n",
    "C=set(A).intersection(set(B))\n",
    "print(\"The intersection of list 1 and list 2 is :\",\",\".join(list(C)))"
   ]
  },
  {
   "cell_type": "code",
   "execution_count": null,
   "metadata": {},
   "outputs": [],
   "source": []
  }
 ],
 "metadata": {
  "kernelspec": {
   "display_name": "Python 3",
   "language": "python",
   "name": "python3"
  },
  "language_info": {
   "codemirror_mode": {
    "name": "ipython",
    "version": 3
   },
   "file_extension": ".py",
   "mimetype": "text/x-python",
   "name": "python",
   "nbconvert_exporter": "python",
   "pygments_lexer": "ipython3",
   "version": "3.7.6"
  }
 },
 "nbformat": 4,
 "nbformat_minor": 4
}
