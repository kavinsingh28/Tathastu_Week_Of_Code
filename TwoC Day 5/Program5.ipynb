{
 "cells": [
  {
   "cell_type": "code",
   "execution_count": 1,
   "metadata": {},
   "outputs": [
    {
     "name": "stdout",
     "output_type": "stream",
     "text": [
      "Enter the No. of elements you want to enter : 8\n",
      "Enter the value of element 1  : 1\n",
      "Enter the value of element 2  : 2\n",
      "Enter the value of element 3  : 3\n",
      "Enter the value of element 4  : 4\n",
      "Enter the value of element 5  : 5\n",
      "Enter the value of element 6  : 6\n",
      "Enter the value of element 7  : 7\n",
      "Enter the value of element 8  : 8\n",
      "The list arranged as per the problem is : 7,5,3,1,2,4,6,8\n"
     ]
    }
   ],
   "source": [
    "n=int(input(\"Enter the No. of elements you want to enter : \"))\n",
    "A=[]\n",
    "B=[]\n",
    "for i in range(n):\n",
    "    a=int(input(\"Enter the value of element {}  : \".format(i+1)))\n",
    "    if a%2==0:\n",
    "        A.append(a)\n",
    "    else:\n",
    "        B.append(a)\n",
    "A.sort()\n",
    "B.sort(reverse=True)\n",
    "print(\"The list arranged as per the problem is : \",end=\"\")\n",
    "print(*(B+A),sep=',')"
   ]
  },
  {
   "cell_type": "markdown",
   "metadata": {},
   "source": []
  }
 ],
 "metadata": {
  "kernelspec": {
   "display_name": "Python 3",
   "language": "python",
   "name": "python3"
  },
  "language_info": {
   "codemirror_mode": {
    "name": "ipython",
    "version": 3
   },
   "file_extension": ".py",
   "mimetype": "text/x-python",
   "name": "python",
   "nbconvert_exporter": "python",
   "pygments_lexer": "ipython3",
   "version": "3.7.6"
  }
 },
 "nbformat": 4,
 "nbformat_minor": 4
}
