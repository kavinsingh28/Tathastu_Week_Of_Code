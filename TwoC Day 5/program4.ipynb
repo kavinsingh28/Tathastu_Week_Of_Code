{
 "cells": [
  {
   "cell_type": "code",
   "execution_count": 6,
   "metadata": {},
   "outputs": [
    {
     "name": "stdin",
     "output_type": "stream",
     "text": [
      "Enter the number of items you want to enter : 4\n",
      "Enter weight for item number 1: 1\n",
      "Enter value for item number 1: 20\n",
      "Enter weight for item number 2: 2\n",
      "Enter value for item number 2: 5\n",
      "Enter weight for item number 3: 3\n",
      "Enter value for item number 3: 100\n",
      "Enter weight for item number 4: 4\n",
      "Enter value for item number 4: 200\n",
      "Enter the weight capacity : 8\n"
     ]
    },
    {
     "name": "stdout",
     "output_type": "stream",
     "text": [
      "320\n"
     ]
    }
   ],
   "source": [
    "n=int(input(\"Enter the number of items you want to enter :\"))\n",
    "A=[]\n",
    "B=[]\n",
    "C=[]\n",
    "for i in range(n):\n",
    "    a=int(input(\"Enter weight for item number {}:\".format(i+1)))\n",
    "    A.append(a)\n",
    "    b=int(input(\"Enter value for item number {}:\".format(i+1)))\n",
    "    B.append(b)\n",
    "    C.append(b/a)\n",
    "C.sort()\n",
    "X=int(input(\"Enter the weight capacity :\"))\n",
    "if X==0 or n==0:\n",
    "    print(\"0\")\n",
    "elif n==1:\n",
    "    if X>B[0]:\n",
    "        print(\"0\")\n",
    "else:\n",
    "    V=0\n",
    "    k=len(C)-1\n",
    "    while(k>=0):\n",
    "        for i in range(n):\n",
    "            if (B[i]/A[i]==C[k] and A[i]<=X):\n",
    "                X-=A[i]\n",
    "                V+=B[i]\n",
    "                break\n",
    "        k=k-1\n",
    "    print(V)"
   ]
  }
 ],
 "metadata": {
  "kernelspec": {
   "display_name": "Python 3",
   "language": "python",
   "name": "python3"
  },
  "language_info": {
   "codemirror_mode": {
    "name": "ipython",
    "version": 3
   },
   "file_extension": ".py",
   "mimetype": "text/x-python",
   "name": "python",
   "nbconvert_exporter": "python",
   "pygments_lexer": "ipython3",
   "version": "3.7.6"
  }
 },
 "nbformat": 4,
 "nbformat_minor": 4
}
