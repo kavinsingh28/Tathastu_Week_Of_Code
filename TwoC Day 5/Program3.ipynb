{
 "cells": [
  {
   "cell_type": "code",
   "execution_count": 12,
   "metadata": {},
   "outputs": [
    {
     "name": "stdin",
     "output_type": "stream",
     "text": [
      "Enter the number of Houses : 6\n",
      "Enter the house 1 value : 1\n",
      "Enter the house 2 value : 2\n",
      "Enter the house 3 value : 1\n",
      "Enter the house 4 value : 2\n",
      "Enter the house 5 value : 1\n",
      "Enter the house 6 value : 2\n"
     ]
    },
    {
     "name": "stdout",
     "output_type": "stream",
     "text": [
      "6\n"
     ]
    }
   ],
   "source": [
    "x=int(input(\"Enter the number of Houses :\"))\n",
    "l=[]\n",
    "for i in range(x):\n",
    "    l.append(int(input(\"Enter the house {} value :\".format(i+1))))\n",
    "a=max(l)\n",
    "b=l.index(a)\n",
    "a=0\n",
    "for i in range(b,x,2):\n",
    "    if l[i]==max(l):\n",
    "        a+=l[i]\n",
    "print(a)"
   ]
  }
 ],
 "metadata": {
  "kernelspec": {
   "display_name": "Python 3",
   "language": "python",
   "name": "python3"
  },
  "language_info": {
   "codemirror_mode": {
    "name": "ipython",
    "version": 3
   },
   "file_extension": ".py",
   "mimetype": "text/x-python",
   "name": "python",
   "nbconvert_exporter": "python",
   "pygments_lexer": "ipython3",
   "version": "3.7.6"
  }
 },
 "nbformat": 4,
 "nbformat_minor": 4
}
