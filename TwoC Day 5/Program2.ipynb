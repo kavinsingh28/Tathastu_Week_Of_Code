{
 "cells": [
  {
   "cell_type": "code",
   "execution_count": 1,
   "metadata": {},
   "outputs": [
    {
     "name": "stdin",
     "output_type": "stream",
     "text": [
      "Enter the Number of elements of the list :  5\n",
      "Enter the element 1 : 9\n",
      "Enter the element 2 : 15\n",
      "Enter the element 3 : 6\n",
      "Enter the element 4 : 2\n",
      "Enter the element 5 : 1\n"
     ]
    },
    {
     "name": "stdout",
     "output_type": "stream",
     "text": [
      "List after replacing every element with greatest element  on right side is :\n",
      "[15, 6, 2, 1, 1]\n"
     ]
    }
   ],
   "source": [
    "x=int(input(\"Enter the Number of elements of the list : \"))\n",
    "l=[]\n",
    "for i in range(x):\n",
    "    l.append(int(input(\"Enter the element {} :\".format(i+1))))\n",
    "for i in range(x):\n",
    "    if  i<x-1:\n",
    "        l[i]=max(l[i+1:])\n",
    "print(\"List after replacing every element with greatest element  on right side is :\")\n",
    "print(l)"
   ]
  },
  {
   "cell_type": "code",
   "execution_count": null,
   "metadata": {},
   "outputs": [],
   "source": []
  }
 ],
 "metadata": {
  "kernelspec": {
   "display_name": "Python 3",
   "language": "python",
   "name": "python3"
  },
  "language_info": {
   "codemirror_mode": {
    "name": "ipython",
    "version": 3
   },
   "file_extension": ".py",
   "mimetype": "text/x-python",
   "name": "python",
   "nbconvert_exporter": "python",
   "pygments_lexer": "ipython3",
   "version": "3.7.6"
  }
 },
 "nbformat": 4,
 "nbformat_minor": 4
}
