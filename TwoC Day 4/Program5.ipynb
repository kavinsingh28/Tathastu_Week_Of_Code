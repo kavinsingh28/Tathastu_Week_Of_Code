{
 "cells": [
  {
   "cell_type": "code",
   "execution_count": 5,
   "metadata": {},
   "outputs": [
    {
     "name": "stdin",
     "output_type": "stream",
     "text": [
      "Enter the total no. of votes 6\n",
      "Enter the vote 1 : aba\n",
      "Enter the vote 2 : abb\n",
      "Enter the vote 3 : abc\n",
      "Enter the vote 4 : abd\n",
      "Enter the vote 5 : abb\n",
      "Enter the vote 6 : aba\n"
     ]
    },
    {
     "name": "stdout",
     "output_type": "stream",
     "text": [
      "aba\n"
     ]
    }
   ],
   "source": [
    "x=int(input(\"Enter the total no. of votes\"))\n",
    "l=[]\n",
    "n=[]\n",
    "p=[]\n",
    "for i in range(x):\n",
    "    a=input(\"Enter the vote {} :\".format(i+1))\n",
    "    l.append(a)\n",
    "m=set(l)\n",
    "for i in m:\n",
    "    n.append(l.count(i))\n",
    "o=max(n)\n",
    "for i in m:\n",
    "    if l.count(i)==o:\n",
    "        p.append(i)\n",
    "p.sort()\n",
    "print(p[0])\n",
    "        "
   ]
  },
  {
   "cell_type": "code",
   "execution_count": null,
   "metadata": {},
   "outputs": [],
   "source": []
  }
 ],
 "metadata": {
  "kernelspec": {
   "display_name": "Python 3",
   "language": "python",
   "name": "python3"
  },
  "language_info": {
   "codemirror_mode": {
    "name": "ipython",
    "version": 3
   },
   "file_extension": ".py",
   "mimetype": "text/x-python",
   "name": "python",
   "nbconvert_exporter": "python",
   "pygments_lexer": "ipython3",
   "version": "3.7.6"
  }
 },
 "nbformat": 4,
 "nbformat_minor": 4
}
