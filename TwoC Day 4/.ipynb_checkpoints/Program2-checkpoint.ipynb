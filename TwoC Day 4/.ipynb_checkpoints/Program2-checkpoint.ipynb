{
 "cells": [
  {
   "cell_type": "code",
   "execution_count": 13,
   "metadata": {},
   "outputs": [
    {
     "name": "stdin",
     "output_type": "stream",
     "text": [
      "Enter the total no tuples you want in the list 3\n",
      "Enter the size of each tuple  2\n"
     ]
    },
    {
     "name": "stdout",
     "output_type": "stream",
     "text": [
      "Enter the elements of tuple  1\n"
     ]
    },
    {
     "name": "stdin",
     "output_type": "stream",
     "text": [
      " 7\n",
      " 9\n"
     ]
    },
    {
     "name": "stdout",
     "output_type": "stream",
     "text": [
      "Enter the elements of tuple  2\n"
     ]
    },
    {
     "name": "stdin",
     "output_type": "stream",
     "text": [
      " 3\n",
      " 1\n"
     ]
    },
    {
     "name": "stdout",
     "output_type": "stream",
     "text": [
      "Enter the elements of tuple  3\n"
     ]
    },
    {
     "name": "stdin",
     "output_type": "stream",
     "text": [
      " 5\n",
      " 6\n",
      "Enter the value of index by which you want to sort the tuple list 1\n"
     ]
    },
    {
     "name": "stdout",
     "output_type": "stream",
     "text": [
      "[(3, 1), (5, 6), (7, 9)]\n"
     ]
    }
   ],
   "source": [
    "def srts(val):\n",
    "    return val[Y]\n",
    "\n",
    "m=int(input(\"Enter the total no tuples you want in the list\"))\n",
    "n=int(input(\"Enter the size of each tuple \"))\n",
    "listt=[]\n",
    "for i in range(m):\n",
    "    print(\"Enter the elements of tuple \",i+1)\n",
    "    tupl=[]\n",
    "    for j in range(n):\n",
    "        x=int(input())\n",
    "        tupl.append(x)\n",
    "    listt.append(tuple(tupl))\n",
    "Y=int(input(\"Enter the value of index by which you want to sort the tuple list\"))\n",
    "listt.sort(key=srts)\n",
    "print(listt)\n"
   ]
  },
  {
   "cell_type": "code",
   "execution_count": null,
   "metadata": {},
   "outputs": [],
   "source": []
  }
 ],
 "metadata": {
  "kernelspec": {
   "display_name": "Python 3",
   "language": "python",
   "name": "python3"
  },
  "language_info": {
   "codemirror_mode": {
    "name": "ipython",
    "version": 3
   },
   "file_extension": ".py",
   "mimetype": "text/x-python",
   "name": "python",
   "nbconvert_exporter": "python",
   "pygments_lexer": "ipython3",
   "version": "3.7.6"
  }
 },
 "nbformat": 4,
 "nbformat_minor": 4
}
