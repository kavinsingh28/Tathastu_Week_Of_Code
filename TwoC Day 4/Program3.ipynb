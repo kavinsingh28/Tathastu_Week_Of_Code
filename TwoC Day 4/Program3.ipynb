{
 "cells": [
  {
   "cell_type": "code",
   "execution_count": 2,
   "metadata": {},
   "outputs": [
    {
     "name": "stdin",
     "output_type": "stream",
     "text": [
      "Enter the total number of items you want to add in dictionary 5\n",
      "Enter the Key a\n",
      "Enter the value 10\n",
      "Enter the Key b\n",
      "Enter the value 3\n",
      "Enter the Key c\n",
      "Enter the value 6\n",
      "Enter the Key d\n",
      "Enter the value 8\n",
      "Enter the Key e\n",
      "Enter the value 7\n"
     ]
    },
    {
     "name": "stdout",
     "output_type": "stream",
     "text": [
      "8\n"
     ]
    }
   ],
   "source": [
    "N=int(input(\"Enter the total number of items you want to add in dictionary\"))\n",
    "D={}\n",
    "for i in range(N):\n",
    "    a=input(\"Enter the Key\")\n",
    "    b=int(input(\"Enter the value\"))\n",
    "    D[a]=b\n",
    "L=list(D.values())\n",
    "L.sort()\n",
    "print(L[-2])"
   ]
  },
  {
   "cell_type": "code",
   "execution_count": null,
   "metadata": {},
   "outputs": [],
   "source": []
  }
 ],
 "metadata": {
  "kernelspec": {
   "display_name": "Python 3",
   "language": "python",
   "name": "python3"
  },
  "language_info": {
   "codemirror_mode": {
    "name": "ipython",
    "version": 3
   },
   "file_extension": ".py",
   "mimetype": "text/x-python",
   "name": "python",
   "nbconvert_exporter": "python",
   "pygments_lexer": "ipython3",
   "version": "3.7.6"
  }
 },
 "nbformat": 4,
 "nbformat_minor": 4
}
