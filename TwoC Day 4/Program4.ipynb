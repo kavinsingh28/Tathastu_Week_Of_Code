{
 "cells": [
  {
   "cell_type": "code",
   "execution_count": 7,
   "metadata": {},
   "outputs": [
    {
     "name": "stdin",
     "output_type": "stream",
     "text": [
      "Enter the number of items you want in dictionary 4\n",
      "Enter the element 1 value  a\n",
      "Enter the element 1 key  2\n",
      "Enter the element 2 value  b\n",
      "Enter the element 2 key  3\n",
      "Enter the element 3 value  c\n",
      "Enter the element 3 key  4\n",
      "Enter the element 4 value  d\n",
      "Enter the element 4 key  3\n"
     ]
    },
    {
     "name": "stdout",
     "output_type": "stream",
     "text": [
      "{'a': 2, 'b': 3, 'c': 4}\n"
     ]
    }
   ],
   "source": [
    "n=int(input(\"Enter the number of items you want in dictionary\"))\n",
    "D1={}\n",
    "D2={}\n",
    "for i in range(n):\n",
    "    a=input(\"Enter the element {} value \".format(i+1))\n",
    "    b=int(input(\"Enter the element {} key \".format(i+1)))\n",
    "    D1[a]=b\n",
    "for key,value in D1.items():\n",
    "    if value not in D2.values():\n",
    "        D2[key]=value\n",
    "print(D2)"
   ]
  },
  {
   "cell_type": "code",
   "execution_count": null,
   "metadata": {},
   "outputs": [],
   "source": []
  },
  {
   "cell_type": "code",
   "execution_count": null,
   "metadata": {},
   "outputs": [],
   "source": []
  }
 ],
 "metadata": {
  "kernelspec": {
   "display_name": "Python 3",
   "language": "python",
   "name": "python3"
  },
  "language_info": {
   "codemirror_mode": {
    "name": "ipython",
    "version": 3
   },
   "file_extension": ".py",
   "mimetype": "text/x-python",
   "name": "python",
   "nbconvert_exporter": "python",
   "pygments_lexer": "ipython3",
   "version": "3.7.6"
  }
 },
 "nbformat": 4,
 "nbformat_minor": 4
}
