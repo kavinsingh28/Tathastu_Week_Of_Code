{
 "cells": [
  {
   "cell_type": "code",
   "execution_count": 6,
   "metadata": {},
   "outputs": [
    {
     "name": "stdin",
     "output_type": "stream",
     "text": [
      "Enter the total numbers of word of dictionary 7\n"
     ]
    },
    {
     "name": "stdout",
     "output_type": "stream",
     "text": [
      "Enter the Words\n"
     ]
    },
    {
     "name": "stdin",
     "output_type": "stream",
     "text": [
      " go\n",
      " bat\n",
      " me\n",
      " eat\n",
      " goal\n",
      " run\n",
      " boy\n",
      "Enter total no. of characters 7\n"
     ]
    },
    {
     "name": "stdout",
     "output_type": "stream",
     "text": [
      "Enter the charaters\n"
     ]
    },
    {
     "name": "stdin",
     "output_type": "stream",
     "text": [
      " e\n",
      " o\n",
      " b\n",
      " a\n",
      " m\n",
      " g\n",
      " l\n"
     ]
    },
    {
     "name": "stdout",
     "output_type": "stream",
     "text": [
      "goal,me,go.\n"
     ]
    }
   ],
   "source": [
    "N=int(input(\"Enter the total numbers of word of dictionary\"))\n",
    "A=[]\n",
    "B=[]\n",
    "E=[]\n",
    "print(\"Enter the Words\")\n",
    "for i in range(N):\n",
    "    A.append(input())\n",
    "M=int(input(\"Enter total no. of characters\"))\n",
    "print(\"Enter the charaters\")\n",
    "for i in range(M):\n",
    "    B.append(input())\n",
    "for i in A:\n",
    "    m=0\n",
    "    k=len(i)\n",
    "    C=B.copy()\n",
    "    for j in i:\n",
    "        if j in C:\n",
    "            m+=1\n",
    "            C.remove(j)\n",
    "    if m==k:\n",
    "        E.append(i)\n",
    "print(\",\".join(set(E))+'.')\n",
    "\n",
    "    \n"
   ]
  },
  {
   "cell_type": "code",
   "execution_count": null,
   "metadata": {},
   "outputs": [],
   "source": []
  }
 ],
 "metadata": {
  "kernelspec": {
   "display_name": "Python 3",
   "language": "python",
   "name": "python3"
  },
  "language_info": {
   "codemirror_mode": {
    "name": "ipython",
    "version": 3
   },
   "file_extension": ".py",
   "mimetype": "text/x-python",
   "name": "python",
   "nbconvert_exporter": "python",
   "pygments_lexer": "ipython3",
   "version": "3.7.6"
  }
 },
 "nbformat": 4,
 "nbformat_minor": 4
}
