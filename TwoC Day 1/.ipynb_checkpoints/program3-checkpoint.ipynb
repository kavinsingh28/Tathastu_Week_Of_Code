{
 "cells": [
  {
   "cell_type": "code",
   "execution_count": 5,
   "metadata": {},
   "outputs": [
    {
     "name": "stdin",
     "output_type": "stream",
     "text": [
      "Ente the first variable 10\n",
      "Enter the second variable 45\n"
     ]
    },
    {
     "name": "stdout",
     "output_type": "stream",
     "text": [
      "Befor Swapping the first variable is 10 and second variable is 45\n",
      "After swapping the first varible becomes 45 and second variable becomes 10\n"
     ]
    }
   ],
   "source": [
    "a=int(input(\"Ente the first variable\"))\n",
    "b=int(input(\"Enter the second variable\")) \n",
    "print(\"Befor Swapping the first variable is {} and second variable is {}\".format(a,b))\n",
    "a,b=b,a\n",
    "print(\"After swapping the first varible becomes {} and second variable becomes {}\".format(a,b))"
   ]
  },
  {
   "cell_type": "code",
   "execution_count": null,
   "metadata": {},
   "outputs": [],
   "source": []
  }
 ],
 "metadata": {
  "kernelspec": {
   "display_name": "Python 3",
   "language": "python",
   "name": "python3"
  },
  "language_info": {
   "codemirror_mode": {
    "name": "ipython",
    "version": 3
   },
   "file_extension": ".py",
   "mimetype": "text/x-python",
   "name": "python",
   "nbconvert_exporter": "python",
   "pygments_lexer": "ipython3",
   "version": "3.8.1"
  }
 },
 "nbformat": 4,
 "nbformat_minor": 4
}
