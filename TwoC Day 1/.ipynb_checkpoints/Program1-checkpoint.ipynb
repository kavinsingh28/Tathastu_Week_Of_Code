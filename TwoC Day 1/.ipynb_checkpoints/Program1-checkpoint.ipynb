{
 "cells": [
  {
   "cell_type": "code",
   "execution_count": 2,
   "metadata": {},
   "outputs": [
    {
     "name": "stdin",
     "output_type": "stream",
     "text": [
      "Enter your Name Mradul jain\n",
      "Enter your Branch Computer science and Engineering\n",
      "Enter your Gender Male\n",
      "Enter your college name Thappar University\n",
      "Enter your age 21\n"
     ]
    },
    {
     "name": "stdout",
     "output_type": "stream",
     "text": [
      "Name : Mradul jain\n",
      "Branch : Computer science and Engineering\n",
      "Gender : Male\n",
      "College : Thappar University\n",
      "Age : 21\n"
     ]
    }
   ],
   "source": [
    "Name=input(\"Enter your Name\")\n",
    "Branch=input(\"Enter your Branch\")\n",
    "Gender=input(\"Enter your Gender\")\n",
    "College=input(\"Enter your college name\")\n",
    "Age=int(input(\"Enter your age\"))\n",
    "print(\"Name :\",Name)\n",
    "print(\"Branch :\",Branch)\n",
    "print(\"Gender :\",Gender)\n",
    "print(\"College :\",College)\n",
    "print(\"Age :\",Age)"
   ]
  },
  {
   "cell_type": "code",
   "execution_count": null,
   "metadata": {},
   "outputs": [],
   "source": []
  }
 ],
 "metadata": {
  "kernelspec": {
   "display_name": "Python 3",
   "language": "python",
   "name": "python3"
  },
  "language_info": {
   "codemirror_mode": {
    "name": "ipython",
    "version": 3
   },
   "file_extension": ".py",
   "mimetype": "text/x-python",
   "name": "python",
   "nbconvert_exporter": "python",
   "pygments_lexer": "ipython3",
   "version": "3.8.1"
  }
 },
 "nbformat": 4,
 "nbformat_minor": 4
}
