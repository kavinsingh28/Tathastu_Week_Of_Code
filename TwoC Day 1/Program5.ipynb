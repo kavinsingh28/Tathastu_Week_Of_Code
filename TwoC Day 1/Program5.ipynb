{
 "cells": [
  {
   "cell_type": "code",
   "execution_count": 3,
   "metadata": {},
   "outputs": [
    {
     "name": "stdin",
     "output_type": "stream",
     "text": [
      "Enter the runs scored by first player in 60 balls 34\n",
      "Enter the runs scored by second player in 60 balls 30\n",
      "Enter the runs scored by third player in 60 balls 24\n"
     ]
    },
    {
     "name": "stdout",
     "output_type": "stream",
     "text": [
      "Strike rate of first player 56.666666666666664\n",
      "Strike rate of second player 50.0\n",
      "Strike rate of third player 40.0\n"
     ]
    }
   ],
   "source": [
    "A=int(input(\"Enter the runs scored by first player in 60 balls\"))\n",
    "B=int(input(\"Enter the runs scored by second player in 60 balls\"))\n",
    "C=int(input(\"Enter the runs scored by third player in 60 balls\"))\n",
    "D=A/60\n",
    "E=B/60\n",
    "F=C/60\n",
    "print(\"Strike rate of first player\",D*100)\n",
    "print(\"Strike rate of second player\",E*100)\n",
    "print(\"Strike rate of third player\",F*100)\n",
    "print(\"Runs scored by first player after 60 more balls =\" A*2)\n",
    "print(\"Runs scored by second player after 60 more balls =\" B*2)\n",
    "print(\"Runs scored by third player after 60 more balls =\" C*2)\n",
    "print(\"First Player can hit maximum {} sixes\".format(A//6))\n",
    "print(\"First Player can hit maximum {} sixes\".format(B//6))     \n",
    "print(\"First Player can hit maximum {} sixes\".format(C//6))     "
   ]
  },
  {
   "cell_type": "code",
   "execution_count": null,
   "metadata": {},
   "outputs": [],
   "source": []
  }
 ],
 "metadata": {
  "kernelspec": {
   "display_name": "Python 3",
   "language": "python",
   "name": "python3"
  },
  "language_info": {
   "codemirror_mode": {
    "name": "ipython",
    "version": 3
   },
   "file_extension": ".py",
   "mimetype": "text/x-python",
   "name": "python",
   "nbconvert_exporter": "python",
   "pygments_lexer": "ipython3",
   "version": "3.8.1"
  }
 },
 "nbformat": 4,
 "nbformat_minor": 4
}
