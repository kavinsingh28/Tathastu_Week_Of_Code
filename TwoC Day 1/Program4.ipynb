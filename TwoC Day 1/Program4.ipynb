{
 "cells": [
  {
   "cell_type": "code",
   "execution_count": 16,
   "metadata": {},
   "outputs": [
    {
     "name": "stdin",
     "output_type": "stream",
     "text": [
      "Enter the Cost Price of the Product 10\n",
      "Enter the Selling Price of the Produce 200\n"
     ]
    },
    {
     "name": "stdout",
     "output_type": "stream",
     "text": [
      "Total profit in figures =  190\n",
      "The selling price should be  209.5 to increase the profit by 5%\n"
     ]
    }
   ],
   "source": [
    "CP=int(input(\"Enter the Cost Price of the Product\"))\n",
    "SP=int(input(\"Enter the Selling Price of the Produce\"))\n",
    "X=SP-CP\n",
    "print(\"Total profit in figures = \",X)\n",
    "K=(5/100)*X\n",
    "print(\"The selling price should be  {} to increase the profit by 5%\".format(SP+K))\n"
   ]
  },
  {
   "cell_type": "code",
   "execution_count": null,
   "metadata": {},
   "outputs": [],
   "source": []
  }
 ],
 "metadata": {
  "kernelspec": {
   "display_name": "Python 3",
   "language": "python",
   "name": "python3"
  },
  "language_info": {
   "codemirror_mode": {
    "name": "ipython",
    "version": 3
   },
   "file_extension": ".py",
   "mimetype": "text/x-python",
   "name": "python",
   "nbconvert_exporter": "python",
   "pygments_lexer": "ipython3",
   "version": "3.8.1"
  }
 },
 "nbformat": 4,
 "nbformat_minor": 4
}
