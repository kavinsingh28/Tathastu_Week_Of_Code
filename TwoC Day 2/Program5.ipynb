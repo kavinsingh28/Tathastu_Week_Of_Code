{
 "cells": [
  {
   "cell_type": "code",
   "execution_count": 12,
   "metadata": {},
   "outputs": [
    {
     "name": "stdin",
     "output_type": "stream",
     "text": [
      "Enter the Number 3\n"
     ]
    },
    {
     "name": "stdout",
     "output_type": "stream",
     "text": [
      "3*3*3\n",
      "2*2\n",
      "1\n",
      "1\n",
      "2*2\n",
      "3*3*3\n"
     ]
    }
   ],
   "source": [
    "X=int(input(\"Enter the Number\"))\n",
    "for i in range(X,0,-1):\n",
    "    for j in range(1,i+1):\n",
    "        print(i,end=\"\")\n",
    "        if (j%i!=0):\n",
    "            print(\"*\",end=\"\")\n",
    "    print()\n",
    "for i in range(1,X+1):\n",
    "    for j in range(1,i+1):\n",
    "        print(i,end=\"\")\n",
    "        if (j%i!=0):\n",
    "            print(\"*\",end=\"\") \n",
    "    print()\n",
    "        "
   ]
  },
  {
   "cell_type": "code",
   "execution_count": null,
   "metadata": {},
   "outputs": [],
   "source": []
  }
 ],
 "metadata": {
  "kernelspec": {
   "display_name": "Python 3",
   "language": "python",
   "name": "python3"
  },
  "language_info": {
   "codemirror_mode": {
    "name": "ipython",
    "version": 3
   },
   "file_extension": ".py",
   "mimetype": "text/x-python",
   "name": "python",
   "nbconvert_exporter": "python",
   "pygments_lexer": "ipython3",
   "version": "3.7.6"
  }
 },
 "nbformat": 4,
 "nbformat_minor": 4
}
