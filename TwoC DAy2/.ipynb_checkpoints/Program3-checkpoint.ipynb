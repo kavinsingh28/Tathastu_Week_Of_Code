{
 "cells": [
  {
   "cell_type": "code",
   "execution_count": 13,
   "metadata": {},
   "outputs": [
    {
     "name": "stdin",
     "output_type": "stream",
     "text": [
      "Enter the Value  7\n"
     ]
    },
    {
     "name": "stdout",
     "output_type": "stream",
     "text": [
      "#            #\n",
      " #          # \n",
      "  #        #  \n",
      "   #      #   \n",
      "    #    #    \n",
      "     #  #     \n",
      "      ##      \n",
      "      ##      \n",
      "     #  #     \n",
      "    #    #    \n",
      "   #      #   \n",
      "  #        #  \n",
      " #          # \n",
      "#            #\n"
     ]
    }
   ],
   "source": [
    "X=int(input(\"Enter the Value \"))\n",
    "for i in range(X*2):\n",
    "    for j in range(X*2):\n",
    "        if j==i or j==(X*2)-(1+i):\n",
    "            print(\"#\",end=\"\") \n",
    "        else:\n",
    "            print(\" \",end=\"\")\n",
    "    print()"
   ]
  },
  {
   "cell_type": "code",
   "execution_count": null,
   "metadata": {},
   "outputs": [],
   "source": []
  }
 ],
 "metadata": {
  "kernelspec": {
   "display_name": "Python 3",
   "language": "python",
   "name": "python3"
  },
  "language_info": {
   "codemirror_mode": {
    "name": "ipython",
    "version": 3
   },
   "file_extension": ".py",
   "mimetype": "text/x-python",
   "name": "python",
   "nbconvert_exporter": "python",
   "pygments_lexer": "ipython3",
   "version": "3.7.6"
  }
 },
 "nbformat": 4,
 "nbformat_minor": 4
}
