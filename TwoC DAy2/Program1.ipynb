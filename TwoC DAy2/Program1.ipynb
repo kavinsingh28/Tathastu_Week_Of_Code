{
 "cells": [
  {
   "cell_type": "code",
   "execution_count": 20,
   "metadata": {},
   "outputs": [
    {
     "name": "stdin",
     "output_type": "stream",
     "text": [
      "Enter the Number 371\n"
     ]
    },
    {
     "name": "stdout",
     "output_type": "stream",
     "text": [
      "371 is an Odd number\n",
      "371 is not a Prime Number\n",
      "371 is not a Palindrome\n",
      "371 is an Armstrong Number\n"
     ]
    }
   ],
   "source": [
    "N=int(input(\"Enter the Number\"))\n",
    "if N%2==0:\n",
    "    print(\"{} is a Even Number\".format(N))\n",
    "else:\n",
    "    print(\"{} is an Odd number\".format(N))\n",
    "for i in range(2,N):\n",
    "    c=0\n",
    "    if N%i==0:\n",
    "        print(\"{} is not a Prime Number\".format(N))\n",
    "        c+=1\n",
    "        break\n",
    "if(c==0):\n",
    "    print(\"{} is a Prime Number\".format(N))\n",
    "M=N\n",
    "B=0\n",
    "while(M>0):\n",
    "    A=M%10\n",
    "    B=(B*10)+A\n",
    "    M=M//10\n",
    "if (B==N):\n",
    "    print(\"{} is a Palindrome\".format(N))\n",
    "else:\n",
    "    print(\"{} is not a Palindrome\".format(N))\n",
    "O=N\n",
    "L=len(str(N))\n",
    "s=0\n",
    "while(O>0):\n",
    "    D=O%10\n",
    "    s=s+(D**L)\n",
    "    O=O//10\n",
    "if (s==N):\n",
    "    print(\"{} is an Armstrong Number\".format(N))\n",
    "else:\n",
    "    print(\"{} is not an Armstrong Number\".format(N))\n"
   ]
  },
  {
   "cell_type": "code",
   "execution_count": null,
   "metadata": {},
   "outputs": [],
   "source": []
  }
 ],
 "metadata": {
  "kernelspec": {
   "display_name": "Python 3",
   "language": "python",
   "name": "python3"
  },
  "language_info": {
   "codemirror_mode": {
    "name": "ipython",
    "version": 3
   },
   "file_extension": ".py",
   "mimetype": "text/x-python",
   "name": "python",
   "nbconvert_exporter": "python",
   "pygments_lexer": "ipython3",
   "version": "3.7.6"
  }
 },
 "nbformat": 4,
 "nbformat_minor": 4
}
