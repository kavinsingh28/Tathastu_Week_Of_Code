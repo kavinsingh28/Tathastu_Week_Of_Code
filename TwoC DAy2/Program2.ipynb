{
 "cells": [
  {
   "cell_type": "code",
   "execution_count": 10,
   "metadata": {},
   "outputs": [
    {
     "name": "stdin",
     "output_type": "stream",
     "text": [
      "Enter the nth value till which you want the series 20\n"
     ]
    },
    {
     "name": "stdout",
     "output_type": "stream",
     "text": [
      "0 1 1 2 3 5 8 13 21 34 55 89 144 233 377 610 987 1597 2584 4181 "
     ]
    }
   ],
   "source": [
    "N=int(input(\"Enter the nth value till which you want the series\"))\n",
    "A=0\n",
    "B=1\n",
    "if(N==1):\n",
    "    print(A)\n",
    "elif (N==2):\n",
    "    print(A,B)\n",
    "else:\n",
    "    print(A,B,end=\" \")\n",
    "    for i in range(N-2):\n",
    "        C=A+B\n",
    "        A=B\n",
    "        B=C\n",
    "        print(C,end=\" \")"
   ]
  },
  {
   "cell_type": "code",
   "execution_count": null,
   "metadata": {},
   "outputs": [],
   "source": []
  }
 ],
 "metadata": {
  "kernelspec": {
   "display_name": "Python 3",
   "language": "python",
   "name": "python3"
  },
  "language_info": {
   "codemirror_mode": {
    "name": "ipython",
    "version": 3
   },
   "file_extension": ".py",
   "mimetype": "text/x-python",
   "name": "python",
   "nbconvert_exporter": "python",
   "pygments_lexer": "ipython3",
   "version": "3.7.6"
  }
 },
 "nbformat": 4,
 "nbformat_minor": 4
}
